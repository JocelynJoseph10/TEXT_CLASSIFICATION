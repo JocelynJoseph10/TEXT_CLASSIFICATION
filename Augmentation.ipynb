{
 "cells": [
  {
   "cell_type": "code",
   "execution_count": 93,
   "id": "2fb44ddd",
   "metadata": {},
   "outputs": [],
   "source": [
    "## Import python library\n",
    "import pandas as pd\n",
    "import nltk\n",
    "\n",
    "## Read file\n",
    "file_name = 'OPPO A31.csv'\n",
    "## Read file using pandas\n",
    "df = pd.read_csv(file_name)"
   ]
  },
  {
   "cell_type": "code",
   "execution_count": null,
   "id": "ed0b4b55",
   "metadata": {},
   "outputs": [],
   "source": []
  },
  {
   "cell_type": "code",
   "execution_count": 94,
   "id": "1050af72",
   "metadata": {},
   "outputs": [],
   "source": [
    "# imports\n",
    "import re\n",
    "# function to remove special characters\n",
    "def remove_special_characters(text):\n",
    "    # define the pattern to keep\n",
    "    pat = r'[^a-zA-z0-9.,!?/:;\\\"\\'\\s]' \n",
    "    return re.sub(pat, '', text)"
   ]
  },
  {
   "cell_type": "code",
   "execution_count": 95,
   "id": "4117b40b",
   "metadata": {},
   "outputs": [],
   "source": [
    "import re\n",
    "l = []\n",
    "asd_train = []\n",
    "pat = r'[^a-zA-z0-9.,!?/:;\\\"\\'\\s]'\n",
    "for i in range(df.shape[0]):\n",
    "    \n",
    "    g = str(df.iloc[i]['body'])\n",
    "    g = g.replace('[^\\w\\s]','')\n",
    "    g = remove_special_characters(g)\n",
    "    g = g.replace(\"/\",\" \")\n",
    "    g = g.replace(\".\",\" \").replace(\",\",\" \").replace(\"\\'\",\"\").replace(\"\\\"\",\"\").replace(\":\",\" \")\n",
    "    g = \" \".join(g.split())\n",
    "    k = \"\"\n",
    "    for j in g:\n",
    "        if(j == \" \"):\n",
    "            k = k + j\n",
    "        elif(ord(j)>=ord('A') and ord(j)<=ord('Z')):\n",
    "            k = k + j\n",
    "        elif(ord(j)>=ord('a') and ord(j)<=ord('z')):\n",
    "            k = k + j\n",
    "                \n",
    "    g1 = df.iloc[i]['rating']\n",
    "    if(g1>3):\n",
    "        asd_train.append(1)\n",
    "    else:\n",
    "        asd_train.append(0)\n",
    "    l.append(k)"
   ]
  },
  {
   "cell_type": "code",
   "execution_count": 96,
   "id": "119715c2",
   "metadata": {},
   "outputs": [],
   "source": [
    "df['body1'] = l"
   ]
  },
  {
   "cell_type": "code",
   "execution_count": 97,
   "id": "d768a986",
   "metadata": {},
   "outputs": [],
   "source": [
    "df['rating'] = asd_train"
   ]
  },
  {
   "cell_type": "code",
   "execution_count": 98,
   "id": "9554f6a4",
   "metadata": {},
   "outputs": [
    {
     "data": {
      "text/html": [
       "<div>\n",
       "<style scoped>\n",
       "    .dataframe tbody tr th:only-of-type {\n",
       "        vertical-align: middle;\n",
       "    }\n",
       "\n",
       "    .dataframe tbody tr th {\n",
       "        vertical-align: top;\n",
       "    }\n",
       "\n",
       "    .dataframe thead th {\n",
       "        text-align: right;\n",
       "    }\n",
       "</style>\n",
       "<table border=\"1\" class=\"dataframe\">\n",
       "  <thead>\n",
       "    <tr style=\"text-align: right;\">\n",
       "      <th></th>\n",
       "      <th>product</th>\n",
       "      <th>title</th>\n",
       "      <th>rating</th>\n",
       "      <th>body</th>\n",
       "      <th>body1</th>\n",
       "    </tr>\n",
       "  </thead>\n",
       "  <tbody>\n",
       "    <tr>\n",
       "      <th>0</th>\n",
       "      <td>OPPO A31 (Fantasy White, 6GB RAM, 128GB Storag...</td>\n",
       "      <td>earphones levu. and  Mobile software working s...</td>\n",
       "      <td>0</td>\n",
       "      <td>I am not happy buy the mobile in amazon.Whats ...</td>\n",
       "      <td>I am not happy buy the mobile in amazon Whats ...</td>\n",
       "    </tr>\n",
       "    <tr>\n",
       "      <th>1</th>\n",
       "      <td>OPPO A31 (Fantasy White, 6GB RAM, 128GB Storag...</td>\n",
       "      <td>Oppo a31</td>\n",
       "      <td>1</td>\n",
       "      <td>Best Product Thnx for Amazon.in</td>\n",
       "      <td>Best Product Thnx for Amazon in</td>\n",
       "    </tr>\n",
       "    <tr>\n",
       "      <th>2</th>\n",
       "      <td>OPPO A31 (Fantasy White, 6GB RAM, 128GB Storag...</td>\n",
       "      <td>Awesome</td>\n",
       "      <td>1</td>\n",
       "      <td>Very nice phone.Eye protection also there.Awes...</td>\n",
       "      <td>Very nice phone Eye protection also there Awes...</td>\n",
       "    </tr>\n",
       "    <tr>\n",
       "      <th>3</th>\n",
       "      <td>OPPO A31 (Fantasy White, 6GB RAM, 128GB Storag...</td>\n",
       "      <td>Complaint</td>\n",
       "      <td>0</td>\n",
       "      <td>Hi i received this item on 16 july.after 10 da...</td>\n",
       "      <td>Hi i received this item on  july after  days p...</td>\n",
       "    </tr>\n",
       "    <tr>\n",
       "      <th>4</th>\n",
       "      <td>OPPO A31 (Fantasy White, 6GB RAM, 128GB Storag...</td>\n",
       "      <td>Waste of money. Please don't buy it</td>\n",
       "      <td>0</td>\n",
       "      <td>Please don't buy this mobile. Waste of money. ...</td>\n",
       "      <td>Please dont buy this mobile Waste of money I b...</td>\n",
       "    </tr>\n",
       "  </tbody>\n",
       "</table>\n",
       "</div>"
      ],
      "text/plain": [
       "                                             product  \\\n",
       "0  OPPO A31 (Fantasy White, 6GB RAM, 128GB Storag...   \n",
       "1  OPPO A31 (Fantasy White, 6GB RAM, 128GB Storag...   \n",
       "2  OPPO A31 (Fantasy White, 6GB RAM, 128GB Storag...   \n",
       "3  OPPO A31 (Fantasy White, 6GB RAM, 128GB Storag...   \n",
       "4  OPPO A31 (Fantasy White, 6GB RAM, 128GB Storag...   \n",
       "\n",
       "                                               title  rating  \\\n",
       "0  earphones levu. and  Mobile software working s...       0   \n",
       "1                                           Oppo a31       1   \n",
       "2                                            Awesome       1   \n",
       "3                                          Complaint       0   \n",
       "4                Waste of money. Please don't buy it       0   \n",
       "\n",
       "                                                body  \\\n",
       "0  I am not happy buy the mobile in amazon.Whats ...   \n",
       "1                    Best Product Thnx for Amazon.in   \n",
       "2  Very nice phone.Eye protection also there.Awes...   \n",
       "3  Hi i received this item on 16 july.after 10 da...   \n",
       "4  Please don't buy this mobile. Waste of money. ...   \n",
       "\n",
       "                                               body1  \n",
       "0  I am not happy buy the mobile in amazon Whats ...  \n",
       "1                    Best Product Thnx for Amazon in  \n",
       "2  Very nice phone Eye protection also there Awes...  \n",
       "3  Hi i received this item on  july after  days p...  \n",
       "4  Please dont buy this mobile Waste of money I b...  "
      ]
     },
     "execution_count": 98,
     "metadata": {},
     "output_type": "execute_result"
    }
   ],
   "source": [
    "df.head()"
   ]
  },
  {
   "cell_type": "code",
   "execution_count": 99,
   "id": "03e129c4",
   "metadata": {},
   "outputs": [
    {
     "data": {
      "text/plain": [
       "1    3286\n",
       "0    1589\n",
       "Name: rating, dtype: int64"
      ]
     },
     "execution_count": 99,
     "metadata": {},
     "output_type": "execute_result"
    }
   ],
   "source": [
    "df.rating.value_counts()"
   ]
  },
  {
   "cell_type": "code",
   "execution_count": 100,
   "id": "579f726b",
   "metadata": {},
   "outputs": [],
   "source": [
    "# load nltk's English stopwords as variable called 'stop' and don't find synonym of those words.\n",
    "stop = nltk.corpus.stopwords.words('english')"
   ]
  },
  {
   "cell_type": "code",
   "execution_count": 101,
   "id": "e7c7685a",
   "metadata": {},
   "outputs": [],
   "source": [
    "## Tokenizing sentence into token for finding synonym.\n",
    "def make_tokenizer(texts):\n",
    "    from keras.preprocessing.text import Tokenizer\n",
    "    t = Tokenizer()\n",
    "    t.fit_on_texts(texts)\n",
    "    return t\n",
    "\n",
    "tokenizer = make_tokenizer(df['body1'])    ## Message is column name\n",
    "\n",
    "X = tokenizer.texts_to_sequences(df['body1'])\n",
    "\n",
    "from keras.preprocessing.sequence import pad_sequences\n",
    "X = pad_sequences(X, 70)"
   ]
  },
  {
   "cell_type": "code",
   "execution_count": 102,
   "id": "6fa08533",
   "metadata": {},
   "outputs": [],
   "source": [
    "## Dictionary of word index\n",
    "index_word = {}\n",
    "for word in tokenizer.word_index.keys():\n",
    "    index_word[tokenizer.word_index[word]] = word"
   ]
  },
  {
   "cell_type": "code",
   "execution_count": 103,
   "id": "202bcdfb",
   "metadata": {},
   "outputs": [],
   "source": [
    "## word list\n",
    "words = [value for key, value in index_word.items()]"
   ]
  },
  {
   "cell_type": "code",
   "execution_count": 104,
   "id": "be6d97f8",
   "metadata": {},
   "outputs": [
    {
     "name": "stderr",
     "output_type": "stream",
     "text": [
      "c:\\python39\\lib\\site-packages\\spacy\\util.py:833: UserWarning: [W095] Model 'en_core_web_sm' (3.0.0) was trained with spaCy v3.0 and may not be 100% compatible with the current version (3.2.4). If you see errors or degraded performance, download a newer compatible model or retrain your custom model with the current spaCy version. For more details and available updates, run: python -m spacy validate\n",
      "  raise FileNotFoundError(\n"
     ]
    }
   ],
   "source": [
    "## Function to find synonym of words \n",
    "import spacy\n",
    "nlp = spacy.load('en_core_web_sm',disable=['parser'])\n",
    "def check_lemma(t,w) :\n",
    "    r = [d for d in t if (nlp(d.text)[0].lemma_ != nlp(w.text)[0].lemma_)]\n",
    "    return r\n",
    "\n",
    "def get_word_synonym(word):\n",
    "    filtered_words = [w for w in word.vocab if (not w.lower_ in stop) and w.is_lower == word.is_lower and w.prob >= -15] ## (not w.lower_ in stop) and\n",
    "    similarity = sorted(filtered_words, key=lambda w: word.similarity(w), reverse=True)\n",
    "    filtered_similarity = check_lemma(similarity[:30], word)\n",
    "    return filtered_similarity[:3]"
   ]
  },
  {
   "cell_type": "code",
   "execution_count": 105,
   "id": "c14c192c",
   "metadata": {},
   "outputs": [],
   "source": [
    "## Synonym dictionary\n",
    "synonym_dict = {}\n",
    "\n",
    "for word in words:\n",
    "    synonym_dict.update({word : tuple([w.lower_ for w in get_word_synonym(nlp.vocab[word])])})\n",
    "        #print(word, \" : \", [w.lower_ for w in get_word_synonym(nlp.vocab[word])])"
   ]
  },
  {
   "cell_type": "code",
   "execution_count": 106,
   "id": "4c505c1f",
   "metadata": {},
   "outputs": [],
   "source": [
    "## Only consider filtered synonym\n",
    "import collections\n",
    "value_occurrences = collections.Counter(synonym_dict.values())\n",
    "\n",
    "filtered_synonym = {key: value for key, value in synonym_dict.items() if value_occurrences[value] == 1}"
   ]
  },
  {
   "cell_type": "code",
   "execution_count": 107,
   "id": "efdf230e",
   "metadata": {},
   "outputs": [],
   "source": [
    "## Function for augmenting data by replacing words with synonym using spaCy\n",
    "## This might not be best best method compared to data augmentation using language translation\n",
    "\n",
    "import re\n",
    "import random\n",
    "sr = random.SystemRandom()\n",
    "split_pattern = re.compile(r'\\s+')\n",
    "def data_augmentation(message, aug_range=1) :\n",
    "    augmented_messages = []\n",
    "    for j in range(0,aug_range) :\n",
    "        new_message = \"\"\n",
    "        for i in filter(None, split_pattern.split(message)) :\n",
    "            new_message = new_message + \" \" + sr.choice(filtered_synonym.get(i,[i]))\n",
    "        augmented_messages.append(new_message)\n",
    "    return augmented_messages"
   ]
  },
  {
   "cell_type": "code",
   "execution_count": 108,
   "id": "b6024962",
   "metadata": {},
   "outputs": [],
   "source": [
    "## Dictionary for intent count\n",
    "## Intent is column name\n",
    "intent_count = df.rating.value_counts().to_dict()"
   ]
  },
  {
   "cell_type": "code",
   "execution_count": 109,
   "id": "7c2f6ae9",
   "metadata": {},
   "outputs": [],
   "source": [
    "## Get max intent count to match other minority classes through data augmentation\n",
    "import operator\n",
    "max_intent_count = max(intent_count.items(), key=operator.itemgetter(1))[1]"
   ]
  },
  {
   "cell_type": "code",
   "execution_count": 110,
   "id": "af57c0ec",
   "metadata": {},
   "outputs": [
    {
     "name": "stderr",
     "output_type": "stream",
     "text": [
      "100%|█████████████████████████████████████████████████████████████████████████████| 1589/1589 [00:02<00:00, 531.62it/s]\n"
     ]
    }
   ],
   "source": [
    "## Loop to interate all messages\n",
    "import numpy as np\n",
    "import math\n",
    "import tqdm\n",
    "newdf = pd.DataFrame()\n",
    "for intent, count in intent_count.items() :\n",
    "    count_diff = max_intent_count - count    ## Difference to fill\n",
    "    multiplication_count = math.ceil((count_diff)/count)  ## Multiplying a minority classes for multiplication_count times\n",
    "    if (multiplication_count) :\n",
    "        old_message_df = pd.DataFrame()\n",
    "        new_message_df = pd.DataFrame()\n",
    "        for message in tqdm.tqdm(df[df[\"rating\"] == intent][\"body1\"]) :\n",
    "            ## Extracting existing minority class batch\n",
    "            dummy1 = pd.DataFrame([message], columns=['body1'])\n",
    "            dummy1[\"rating\"] = intent\n",
    "            old_message_df = old_message_df.append(dummy1)\n",
    "            \n",
    "            ## Creating new augmented batch from existing minority class\n",
    "            new_messages = data_augmentation(message, multiplication_count)\n",
    "            dummy2 = pd.DataFrame(new_messages, columns=['body1'])\n",
    "            dummy2[\"rating\"] = intent\n",
    "            new_message_df = new_message_df.append(dummy2)\n",
    "        \n",
    "        ## Select random data points from augmented data\n",
    "        new_message_df=new_message_df.take(np.random.permutation(len(new_message_df))[:count_diff])\n",
    "        \n",
    "        ## Merge existing and augmented data points\n",
    "        newdf = newdf.append([old_message_df,new_message_df])\n",
    "    else :\n",
    "        newdf = newdf.append(df[df[\"rating\"] == intent])"
   ]
  },
  {
   "cell_type": "code",
   "execution_count": 111,
   "id": "7f6b79b2",
   "metadata": {},
   "outputs": [
    {
     "data": {
      "text/plain": [
       "1    3286\n",
       "0    3286\n",
       "Name: rating, dtype: int64"
      ]
     },
     "execution_count": 111,
     "metadata": {},
     "output_type": "execute_result"
    }
   ],
   "source": [
    "newdf.rating.value_counts()"
   ]
  },
  {
   "cell_type": "code",
   "execution_count": 112,
   "id": "b2b42ee4",
   "metadata": {},
   "outputs": [
    {
     "data": {
      "text/html": [
       "<div>\n",
       "<style scoped>\n",
       "    .dataframe tbody tr th:only-of-type {\n",
       "        vertical-align: middle;\n",
       "    }\n",
       "\n",
       "    .dataframe tbody tr th {\n",
       "        vertical-align: top;\n",
       "    }\n",
       "\n",
       "    .dataframe thead th {\n",
       "        text-align: right;\n",
       "    }\n",
       "</style>\n",
       "<table border=\"1\" class=\"dataframe\">\n",
       "  <thead>\n",
       "    <tr style=\"text-align: right;\">\n",
       "      <th></th>\n",
       "      <th>product</th>\n",
       "      <th>title</th>\n",
       "      <th>rating</th>\n",
       "      <th>body</th>\n",
       "      <th>body1</th>\n",
       "    </tr>\n",
       "  </thead>\n",
       "  <tbody>\n",
       "    <tr>\n",
       "      <th>1</th>\n",
       "      <td>OPPO A31 (Fantasy White, 6GB RAM, 128GB Storag...</td>\n",
       "      <td>Oppo a31</td>\n",
       "      <td>1</td>\n",
       "      <td>Best Product Thnx for Amazon.in</td>\n",
       "      <td>Best Product Thnx for Amazon in</td>\n",
       "    </tr>\n",
       "    <tr>\n",
       "      <th>2</th>\n",
       "      <td>OPPO A31 (Fantasy White, 6GB RAM, 128GB Storag...</td>\n",
       "      <td>Awesome</td>\n",
       "      <td>1</td>\n",
       "      <td>Very nice phone.Eye protection also there.Awes...</td>\n",
       "      <td>Very nice phone Eye protection also there Awes...</td>\n",
       "    </tr>\n",
       "    <tr>\n",
       "      <th>5</th>\n",
       "      <td>OPPO A31 (Fantasy White, 6GB RAM, 128GB Storag...</td>\n",
       "      <td>Osm</td>\n",
       "      <td>1</td>\n",
       "      <td>Nice</td>\n",
       "      <td>Nice</td>\n",
       "    </tr>\n",
       "    <tr>\n",
       "      <th>7</th>\n",
       "      <td>OPPO A31 (Fantasy White, 6GB RAM, 128GB Storag...</td>\n",
       "      <td>Worthy n best product</td>\n",
       "      <td>1</td>\n",
       "      <td>It's worth for 9.5k. after exchange offer.ligh...</td>\n",
       "      <td>Its worth for  k after exchange offer light we...</td>\n",
       "    </tr>\n",
       "    <tr>\n",
       "      <th>9</th>\n",
       "      <td>OPPO A31 (Fantasy White, 6GB RAM, 128GB Storag...</td>\n",
       "      <td>Very Good product</td>\n",
       "      <td>1</td>\n",
       "      <td>Its a really very amazing and a nicely working...</td>\n",
       "      <td>Its a really very amazing and a nicely working...</td>\n",
       "    </tr>\n",
       "  </tbody>\n",
       "</table>\n",
       "</div>"
      ],
      "text/plain": [
       "                                             product                  title  \\\n",
       "1  OPPO A31 (Fantasy White, 6GB RAM, 128GB Storag...               Oppo a31   \n",
       "2  OPPO A31 (Fantasy White, 6GB RAM, 128GB Storag...                Awesome   \n",
       "5  OPPO A31 (Fantasy White, 6GB RAM, 128GB Storag...                    Osm   \n",
       "7  OPPO A31 (Fantasy White, 6GB RAM, 128GB Storag...  Worthy n best product   \n",
       "9  OPPO A31 (Fantasy White, 6GB RAM, 128GB Storag...      Very Good product   \n",
       "\n",
       "   rating                                               body  \\\n",
       "1       1                    Best Product Thnx for Amazon.in   \n",
       "2       1  Very nice phone.Eye protection also there.Awes...   \n",
       "5       1                                               Nice   \n",
       "7       1  It's worth for 9.5k. after exchange offer.ligh...   \n",
       "9       1  Its a really very amazing and a nicely working...   \n",
       "\n",
       "                                               body1  \n",
       "1                    Best Product Thnx for Amazon in  \n",
       "2  Very nice phone Eye protection also there Awes...  \n",
       "5                                               Nice  \n",
       "7  Its worth for  k after exchange offer light we...  \n",
       "9  Its a really very amazing and a nicely working...  "
      ]
     },
     "execution_count": 112,
     "metadata": {},
     "output_type": "execute_result"
    }
   ],
   "source": [
    "newdf.head()"
   ]
  },
  {
   "cell_type": "code",
   "execution_count": 113,
   "id": "53cd578a",
   "metadata": {},
   "outputs": [
    {
     "data": {
      "text/html": [
       "<div>\n",
       "<style scoped>\n",
       "    .dataframe tbody tr th:only-of-type {\n",
       "        vertical-align: middle;\n",
       "    }\n",
       "\n",
       "    .dataframe tbody tr th {\n",
       "        vertical-align: top;\n",
       "    }\n",
       "\n",
       "    .dataframe thead th {\n",
       "        text-align: right;\n",
       "    }\n",
       "</style>\n",
       "<table border=\"1\" class=\"dataframe\">\n",
       "  <thead>\n",
       "    <tr style=\"text-align: right;\">\n",
       "      <th></th>\n",
       "      <th>product</th>\n",
       "      <th>title</th>\n",
       "      <th>rating</th>\n",
       "      <th>body</th>\n",
       "      <th>body1</th>\n",
       "    </tr>\n",
       "  </thead>\n",
       "  <tbody>\n",
       "    <tr>\n",
       "      <th>0</th>\n",
       "      <td>NaN</td>\n",
       "      <td>NaN</td>\n",
       "      <td>0</td>\n",
       "      <td>NaN</td>\n",
       "      <td>Totally waste</td>\n",
       "    </tr>\n",
       "    <tr>\n",
       "      <th>1</th>\n",
       "      <td>NaN</td>\n",
       "      <td>NaN</td>\n",
       "      <td>0</td>\n",
       "      <td>NaN</td>\n",
       "      <td></td>\n",
       "    </tr>\n",
       "    <tr>\n",
       "      <th>0</th>\n",
       "      <td>NaN</td>\n",
       "      <td>NaN</td>\n",
       "      <td>0</td>\n",
       "      <td>NaN</td>\n",
       "      <td>The phone is totally rubbish the battery does...</td>\n",
       "    </tr>\n",
       "    <tr>\n",
       "      <th>0</th>\n",
       "      <td>NaN</td>\n",
       "      <td>NaN</td>\n",
       "      <td>0</td>\n",
       "      <td>NaN</td>\n",
       "      <td>Waste of cost Zero quality this sellar is a f...</td>\n",
       "    </tr>\n",
       "    <tr>\n",
       "      <th>0</th>\n",
       "      <td>NaN</td>\n",
       "      <td>NaN</td>\n",
       "      <td>0</td>\n",
       "      <td>NaN</td>\n",
       "      <td>Battery slow</td>\n",
       "    </tr>\n",
       "  </tbody>\n",
       "</table>\n",
       "</div>"
      ],
      "text/plain": [
       "  product title  rating body  \\\n",
       "0     NaN   NaN       0  NaN   \n",
       "1     NaN   NaN       0  NaN   \n",
       "0     NaN   NaN       0  NaN   \n",
       "0     NaN   NaN       0  NaN   \n",
       "0     NaN   NaN       0  NaN   \n",
       "\n",
       "                                               body1  \n",
       "0                                      Totally waste  \n",
       "1                                                     \n",
       "0   The phone is totally rubbish the battery does...  \n",
       "0   Waste of cost Zero quality this sellar is a f...  \n",
       "0                                       Battery slow  "
      ]
     },
     "execution_count": 113,
     "metadata": {},
     "output_type": "execute_result"
    }
   ],
   "source": [
    "newdf.tail()"
   ]
  },
  {
   "cell_type": "code",
   "execution_count": 115,
   "id": "31141eb6",
   "metadata": {},
   "outputs": [],
   "source": [
    "newdf.to_csv(\"OPPO A31 Balanced.csv\")"
   ]
  }
 ],
 "metadata": {
  "kernelspec": {
   "display_name": "Python 3 (ipykernel)",
   "language": "python",
   "name": "python3"
  },
  "language_info": {
   "codemirror_mode": {
    "name": "ipython",
    "version": 3
   },
   "file_extension": ".py",
   "mimetype": "text/x-python",
   "name": "python",
   "nbconvert_exporter": "python",
   "pygments_lexer": "ipython3",
   "version": "3.9.5"
  }
 },
 "nbformat": 4,
 "nbformat_minor": 5
}
